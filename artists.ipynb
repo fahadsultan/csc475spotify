{
 "cells": [
  {
   "cell_type": "code",
   "execution_count": 1,
   "metadata": {},
   "outputs": [],
   "source": [
    "import pandas as pd"
   ]
  },
  {
   "cell_type": "code",
   "execution_count": 7,
   "metadata": {},
   "outputs": [],
   "source": [
    "# Read in spotify_updated.csv\n",
    "spotify_data = pd.read_csv('dataset.csv')"
   ]
  },
  {
   "cell_type": "code",
   "execution_count": 36,
   "metadata": {},
   "outputs": [
    {
     "name": "stdout",
     "output_type": "stream",
     "text": [
      "                 track_name  cluster\n",
      "81209  Hymn for the Weekend        2\n",
      "81748      Christmas Lights        1\n",
      "81779                Yellow        2\n",
      "81782                Yellow        2\n",
      "81786            Green Eyes        0\n",
      "81790      Christmas Lights        1\n",
      "81792         The Scientist        0\n",
      "81793      Christmas Lights        1\n",
      "81794          Higher Power        2\n",
      "81795      Christmas Lights        1\n",
      "81796      Christmas Lights        1\n",
      "81797         Everyday Life        0\n"
     ]
    },
    {
     "name": "stderr",
     "output_type": "stream",
     "text": [
      "/Users/wfoster/anaconda3/lib/python3.11/site-packages/sklearn/cluster/_kmeans.py:1412: FutureWarning: The default value of `n_init` will change from 10 to 'auto' in 1.4. Set the value of `n_init` explicitly to suppress the warning\n",
      "  super()._check_params_vs_input(X, default_n_init=10)\n",
      "/var/folders/_1/8fw6702n7g37rnlh6_20h3700000gn/T/ipykernel_31901/443007874.py:16: SettingWithCopyWarning: \n",
      "A value is trying to be set on a copy of a slice from a DataFrame.\n",
      "Try using .loc[row_indexer,col_indexer] = value instead\n",
      "\n",
      "See the caveats in the documentation: https://pandas.pydata.org/pandas-docs/stable/user_guide/indexing.html#returning-a-view-versus-a-copy\n",
      "  coldplay_songs['cluster'] = kmeans.labels_\n"
     ]
    }
   ],
   "source": [
    "# Import necessary libraries\n",
    "from sklearn.cluster import KMeans\n",
    "import pandas as pd\n",
    "\n",
    "# Filter the dataframe to include only songs by Coldplay\n",
    "coldplay_songs = spotify_data[spotify_data['artists'] == 'Coldplay']\n",
    "\n",
    "# Select the song features for clustering\n",
    "song_features = coldplay_songs[['acousticness', 'danceability', 'energy', 'instrumentalness', 'liveness', 'speechiness', 'valence']]\n",
    "\n",
    "# Perform K-means clustering\n",
    "kmeans = KMeans(n_clusters=3, random_state=0)\n",
    "kmeans.fit(song_features)\n",
    "\n",
    "# Add the cluster labels to the dataframe\n",
    "coldplay_songs['cluster'] = kmeans.labels_\n",
    "\n",
    "# Print the clustered songs\n",
    "print(coldplay_songs[['track_name', 'cluster']])\n"
   ]
  },
  {
   "cell_type": "code",
   "execution_count": 41,
   "metadata": {},
   "outputs": [
    {
     "name": "stdout",
     "output_type": "stream",
     "text": [
      "['Green Eyes', 'Christmas Lights', 'Hymn for the Weekend']\n"
     ]
    }
   ],
   "source": [
    "# Insert the top song from each cluster into a list\n",
    "top_songs = []\n",
    "\n",
    "for cluster in range(3):\n",
    "    cluster_songs = coldplay_songs[coldplay_songs['cluster'] == cluster]\n",
    "    top_song = cluster_songs.sort_values('popularity', ascending=False).iloc[0]\n",
    "    top_songs.append(top_song['track_name'])\n",
    "\n",
    "# Print the top song from each cluster\n",
    "print(top_songs)\n",
    "    "
   ]
  },
  {
   "cell_type": "code",
   "execution_count": 48,
   "metadata": {},
   "outputs": [
    {
     "name": "stdout",
     "output_type": "stream",
     "text": [
      "Non-Coldplay song closest to 'Green Eyes': Infinity\n",
      "Non-Coldplay song closest to 'Christmas Lights': The Universal\n",
      "Non-Coldplay song closest to 'Hymn for the Weekend': Black Balloon\n"
     ]
    }
   ],
   "source": [
    "from scipy.spatial.distance import cdist\n",
    "\n",
    "# Select the song features for non-Coldplay songs\n",
    "non_coldplay_song_features = non_coldplay_songs[['popularity','acousticness', 'danceability', 'energy', 'instrumentalness', 'liveness', 'speechiness', 'valence']]\n",
    "\n",
    "# Select the song features for top songs\n",
    "top_songs_features = coldplay_songs[['popularity','acousticness', 'danceability', 'energy', 'instrumentalness', 'liveness', 'speechiness', 'valence']]\n",
    "\n",
    "# Calculate the Euclidean distance between each non-Coldplay song and each song in top_songs\n",
    "distances = cdist(non_coldplay_song_features, top_songs_features, metric='euclidean')\n",
    "\n",
    "# Find the non-Coldplay song with the smallest Euclidean distance to each song in top_songs\n",
    "closest_songs = []\n",
    "\n",
    "for i in range(len(top_songs)):\n",
    "    closest_song_index = distances[:, i].argmin()\n",
    "    closest_song = non_coldplay_songs.iloc[closest_song_index]['track_name']\n",
    "    closest_songs.append(closest_song)\n",
    "\n",
    "# Print the non-Coldplay song and the artist\n",
    "for i in range(len(top_songs)):\n",
    "    print(f\"Non-Coldplay song closest to '{top_songs[i]}': {closest_songs[i]}\")\n",
    "\n"
   ]
  },
  {
   "cell_type": "code",
   "execution_count": 59,
   "metadata": {},
   "outputs": [
    {
     "name": "stdout",
     "output_type": "stream",
     "text": [
      "Non-Coldplay song closest to 'Green Eyes' by Coldplay: 'Infinity' by Jaymes Young\n",
      "Non-Coldplay song closest to 'Christmas Lights' by Coldplay: 'The Universal' by Blur\n",
      "Non-Coldplay song closest to 'Hymn for the Weekend' by Coldplay: 'Black Balloon' by The Goo Goo Dolls\n"
     ]
    }
   ],
   "source": [
    "closest_songs_artists = []  # Initialize the closest_songs_artists list\n",
    "\n",
    "# Find the non-Coldplay song with the smallest Euclidean distance to each song in top_songs\n",
    "for i in range(len(top_songs)):\n",
    "    if i < distances.shape[1]:  # Check if the index is within the range of columns in distances\n",
    "        closest_song_index = distances[:, i].argmin()\n",
    "        closest_song = non_coldplay_songs.iloc[closest_song_index]['track_name']\n",
    "        closest_song_artist = non_coldplay_songs.iloc[closest_song_index]['artists']\n",
    "        closest_songs_artists.append(closest_song_artist)\n",
    "    else:\n",
    "        closest_songs_artists.append('Unknown')  # Add a placeholder for out-of-range indices\n",
    "\n",
    "# Print the non-Coldplay song and the artist\n",
    "for i in range(3):\n",
    "    print(f\"Non-Coldplay song closest to '{top_songs[i]}' by Coldplay: '{closest_songs[i]}' by {closest_songs_artists[i]}\")\n",
    "\n",
    "\n",
    "\n"
   ]
  },
  {
   "cell_type": "code",
   "execution_count": null,
   "metadata": {},
   "outputs": [],
   "source": []
  }
 ],
 "metadata": {
  "kernelspec": {
   "display_name": "base",
   "language": "python",
   "name": "python3"
  },
  "language_info": {
   "codemirror_mode": {
    "name": "ipython",
    "version": 3
   },
   "file_extension": ".py",
   "mimetype": "text/x-python",
   "name": "python",
   "nbconvert_exporter": "python",
   "pygments_lexer": "ipython3",
   "version": "3.11.5"
  }
 },
 "nbformat": 4,
 "nbformat_minor": 2
}
